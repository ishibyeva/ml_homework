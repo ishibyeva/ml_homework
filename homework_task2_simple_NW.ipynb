{
  "cells": [
    {
      "cell_type": "markdown",
      "metadata": {
        "id": "view-in-github",
        "colab_type": "text"
      },
      "source": [
        "<a href=\"https://colab.research.google.com/github/ishibyeva/ml_homework/blob/main/homework_task2_simple_NW.ipynb\" target=\"_parent\"><img src=\"https://colab.research.google.com/assets/colab-badge.svg\" alt=\"Open In Colab\"/></a>"
      ]
    },
    {
      "cell_type": "code",
      "execution_count": 1,
      "metadata": {
        "id": "HCsmX5JOhso3"
      },
      "outputs": [],
      "source": [
        "import matplotlib.pyplot as plt\n",
        "import pandas as pd\n",
        "import numpy as np\n",
        "import seaborn as sns\n",
        "%matplotlib inline"
      ]
    },
    {
      "cell_type": "code",
      "execution_count": 2,
      "metadata": {
        "id": "efwV5pI5iEDt"
      },
      "outputs": [],
      "source": [
        "url = 'https://raw.githubusercontent.com/ishibyeva/ml_homework/main/music_genres_train.csv'\n",
        "data = pd.read_csv(url)"
      ]
    },
    {
      "cell_type": "markdown",
      "metadata": {
        "id": "nkEIMMxrkFCK"
      },
      "source": [
        "Немного вспомним характеристики датасета"
      ]
    },
    {
      "cell_type": "code",
      "execution_count": 3,
      "metadata": {
        "colab": {
          "base_uri": "https://localhost:8080/"
        },
        "id": "c-CyffdOiISZ",
        "outputId": "8a8ac73b-c40f-4c9c-e517-a005570edc4a"
      },
      "outputs": [
        {
          "output_type": "execute_result",
          "data": {
            "text/plain": [
              "(17996, 17)"
            ]
          },
          "metadata": {},
          "execution_count": 3
        }
      ],
      "source": [
        "data.shape"
      ]
    },
    {
      "cell_type": "code",
      "execution_count": 4,
      "metadata": {
        "colab": {
          "base_uri": "https://localhost:8080/",
          "height": 438
        },
        "id": "ahcLy3m7kesE",
        "outputId": "d2d731f3-4227-4662-d410-b9b5bf9d99ad"
      },
      "outputs": [
        {
          "output_type": "execute_result",
          "data": {
            "text/html": [
              "\n",
              "  <div id=\"df-264cd808-8cc4-4cc3-b1db-0903ebaed712\">\n",
              "    <div class=\"colab-df-container\">\n",
              "      <div>\n",
              "<style scoped>\n",
              "    .dataframe tbody tr th:only-of-type {\n",
              "        vertical-align: middle;\n",
              "    }\n",
              "\n",
              "    .dataframe tbody tr th {\n",
              "        vertical-align: top;\n",
              "    }\n",
              "\n",
              "    .dataframe thead th {\n",
              "        text-align: right;\n",
              "    }\n",
              "</style>\n",
              "<table border=\"1\" class=\"dataframe\">\n",
              "  <thead>\n",
              "    <tr style=\"text-align: right;\">\n",
              "      <th></th>\n",
              "      <th>Artist Name</th>\n",
              "      <th>Track Name</th>\n",
              "      <th>Popularity</th>\n",
              "      <th>danceability</th>\n",
              "      <th>energy</th>\n",
              "      <th>key</th>\n",
              "      <th>loudness</th>\n",
              "      <th>mode</th>\n",
              "      <th>speechiness</th>\n",
              "      <th>acousticness</th>\n",
              "      <th>instrumentalness</th>\n",
              "      <th>liveness</th>\n",
              "      <th>valence</th>\n",
              "      <th>tempo</th>\n",
              "      <th>duration_in min/ms</th>\n",
              "      <th>time_signature</th>\n",
              "      <th>Class</th>\n",
              "    </tr>\n",
              "  </thead>\n",
              "  <tbody>\n",
              "    <tr>\n",
              "      <th>0</th>\n",
              "      <td>Bruno Mars</td>\n",
              "      <td>That's What I Like (feat. Gucci Mane)</td>\n",
              "      <td>60.0</td>\n",
              "      <td>0.854</td>\n",
              "      <td>0.564</td>\n",
              "      <td>1.0</td>\n",
              "      <td>-4.964</td>\n",
              "      <td>1</td>\n",
              "      <td>0.0485</td>\n",
              "      <td>0.017100</td>\n",
              "      <td>NaN</td>\n",
              "      <td>0.0849</td>\n",
              "      <td>0.8990</td>\n",
              "      <td>134.071</td>\n",
              "      <td>234596.0</td>\n",
              "      <td>4</td>\n",
              "      <td>5</td>\n",
              "    </tr>\n",
              "    <tr>\n",
              "      <th>1</th>\n",
              "      <td>Boston</td>\n",
              "      <td>Hitch a Ride</td>\n",
              "      <td>54.0</td>\n",
              "      <td>0.382</td>\n",
              "      <td>0.814</td>\n",
              "      <td>3.0</td>\n",
              "      <td>-7.230</td>\n",
              "      <td>1</td>\n",
              "      <td>0.0406</td>\n",
              "      <td>0.001100</td>\n",
              "      <td>0.004010</td>\n",
              "      <td>0.1010</td>\n",
              "      <td>0.5690</td>\n",
              "      <td>116.454</td>\n",
              "      <td>251733.0</td>\n",
              "      <td>4</td>\n",
              "      <td>10</td>\n",
              "    </tr>\n",
              "    <tr>\n",
              "      <th>2</th>\n",
              "      <td>The Raincoats</td>\n",
              "      <td>No Side to Fall In</td>\n",
              "      <td>35.0</td>\n",
              "      <td>0.434</td>\n",
              "      <td>0.614</td>\n",
              "      <td>6.0</td>\n",
              "      <td>-8.334</td>\n",
              "      <td>1</td>\n",
              "      <td>0.0525</td>\n",
              "      <td>0.486000</td>\n",
              "      <td>0.000196</td>\n",
              "      <td>0.3940</td>\n",
              "      <td>0.7870</td>\n",
              "      <td>147.681</td>\n",
              "      <td>109667.0</td>\n",
              "      <td>4</td>\n",
              "      <td>6</td>\n",
              "    </tr>\n",
              "    <tr>\n",
              "      <th>3</th>\n",
              "      <td>Deno</td>\n",
              "      <td>Lingo (feat. J.I &amp; Chunkz)</td>\n",
              "      <td>66.0</td>\n",
              "      <td>0.853</td>\n",
              "      <td>0.597</td>\n",
              "      <td>10.0</td>\n",
              "      <td>-6.528</td>\n",
              "      <td>0</td>\n",
              "      <td>0.0555</td>\n",
              "      <td>0.021200</td>\n",
              "      <td>NaN</td>\n",
              "      <td>0.1220</td>\n",
              "      <td>0.5690</td>\n",
              "      <td>107.033</td>\n",
              "      <td>173968.0</td>\n",
              "      <td>4</td>\n",
              "      <td>5</td>\n",
              "    </tr>\n",
              "    <tr>\n",
              "      <th>4</th>\n",
              "      <td>Red Hot Chili Peppers</td>\n",
              "      <td>Nobody Weird Like Me - Remastered</td>\n",
              "      <td>53.0</td>\n",
              "      <td>0.167</td>\n",
              "      <td>0.975</td>\n",
              "      <td>2.0</td>\n",
              "      <td>-4.279</td>\n",
              "      <td>1</td>\n",
              "      <td>0.2160</td>\n",
              "      <td>0.000169</td>\n",
              "      <td>0.016100</td>\n",
              "      <td>0.1720</td>\n",
              "      <td>0.0918</td>\n",
              "      <td>199.060</td>\n",
              "      <td>229960.0</td>\n",
              "      <td>4</td>\n",
              "      <td>10</td>\n",
              "    </tr>\n",
              "  </tbody>\n",
              "</table>\n",
              "</div>\n",
              "      <button class=\"colab-df-convert\" onclick=\"convertToInteractive('df-264cd808-8cc4-4cc3-b1db-0903ebaed712')\"\n",
              "              title=\"Convert this dataframe to an interactive table.\"\n",
              "              style=\"display:none;\">\n",
              "        \n",
              "  <svg xmlns=\"http://www.w3.org/2000/svg\" height=\"24px\"viewBox=\"0 0 24 24\"\n",
              "       width=\"24px\">\n",
              "    <path d=\"M0 0h24v24H0V0z\" fill=\"none\"/>\n",
              "    <path d=\"M18.56 5.44l.94 2.06.94-2.06 2.06-.94-2.06-.94-.94-2.06-.94 2.06-2.06.94zm-11 1L8.5 8.5l.94-2.06 2.06-.94-2.06-.94L8.5 2.5l-.94 2.06-2.06.94zm10 10l.94 2.06.94-2.06 2.06-.94-2.06-.94-.94-2.06-.94 2.06-2.06.94z\"/><path d=\"M17.41 7.96l-1.37-1.37c-.4-.4-.92-.59-1.43-.59-.52 0-1.04.2-1.43.59L10.3 9.45l-7.72 7.72c-.78.78-.78 2.05 0 2.83L4 21.41c.39.39.9.59 1.41.59.51 0 1.02-.2 1.41-.59l7.78-7.78 2.81-2.81c.8-.78.8-2.07 0-2.86zM5.41 20L4 18.59l7.72-7.72 1.47 1.35L5.41 20z\"/>\n",
              "  </svg>\n",
              "      </button>\n",
              "      \n",
              "  <style>\n",
              "    .colab-df-container {\n",
              "      display:flex;\n",
              "      flex-wrap:wrap;\n",
              "      gap: 12px;\n",
              "    }\n",
              "\n",
              "    .colab-df-convert {\n",
              "      background-color: #E8F0FE;\n",
              "      border: none;\n",
              "      border-radius: 50%;\n",
              "      cursor: pointer;\n",
              "      display: none;\n",
              "      fill: #1967D2;\n",
              "      height: 32px;\n",
              "      padding: 0 0 0 0;\n",
              "      width: 32px;\n",
              "    }\n",
              "\n",
              "    .colab-df-convert:hover {\n",
              "      background-color: #E2EBFA;\n",
              "      box-shadow: 0px 1px 2px rgba(60, 64, 67, 0.3), 0px 1px 3px 1px rgba(60, 64, 67, 0.15);\n",
              "      fill: #174EA6;\n",
              "    }\n",
              "\n",
              "    [theme=dark] .colab-df-convert {\n",
              "      background-color: #3B4455;\n",
              "      fill: #D2E3FC;\n",
              "    }\n",
              "\n",
              "    [theme=dark] .colab-df-convert:hover {\n",
              "      background-color: #434B5C;\n",
              "      box-shadow: 0px 1px 3px 1px rgba(0, 0, 0, 0.15);\n",
              "      filter: drop-shadow(0px 1px 2px rgba(0, 0, 0, 0.3));\n",
              "      fill: #FFFFFF;\n",
              "    }\n",
              "  </style>\n",
              "\n",
              "      <script>\n",
              "        const buttonEl =\n",
              "          document.querySelector('#df-264cd808-8cc4-4cc3-b1db-0903ebaed712 button.colab-df-convert');\n",
              "        buttonEl.style.display =\n",
              "          google.colab.kernel.accessAllowed ? 'block' : 'none';\n",
              "\n",
              "        async function convertToInteractive(key) {\n",
              "          const element = document.querySelector('#df-264cd808-8cc4-4cc3-b1db-0903ebaed712');\n",
              "          const dataTable =\n",
              "            await google.colab.kernel.invokeFunction('convertToInteractive',\n",
              "                                                     [key], {});\n",
              "          if (!dataTable) return;\n",
              "\n",
              "          const docLinkHtml = 'Like what you see? Visit the ' +\n",
              "            '<a target=\"_blank\" href=https://colab.research.google.com/notebooks/data_table.ipynb>data table notebook</a>'\n",
              "            + ' to learn more about interactive tables.';\n",
              "          element.innerHTML = '';\n",
              "          dataTable['output_type'] = 'display_data';\n",
              "          await google.colab.output.renderOutput(dataTable, element);\n",
              "          const docLink = document.createElement('div');\n",
              "          docLink.innerHTML = docLinkHtml;\n",
              "          element.appendChild(docLink);\n",
              "        }\n",
              "      </script>\n",
              "    </div>\n",
              "  </div>\n",
              "  "
            ],
            "text/plain": [
              "             Artist Name  ... Class\n",
              "0             Bruno Mars  ...     5\n",
              "1                 Boston  ...    10\n",
              "2          The Raincoats  ...     6\n",
              "3                   Deno  ...     5\n",
              "4  Red Hot Chili Peppers  ...    10\n",
              "\n",
              "[5 rows x 17 columns]"
            ]
          },
          "metadata": {},
          "execution_count": 4
        }
      ],
      "source": [
        "data.head()"
      ]
    },
    {
      "cell_type": "code",
      "execution_count": 5,
      "metadata": {
        "colab": {
          "base_uri": "https://localhost:8080/",
          "height": 378
        },
        "id": "EpocPZoMklaL",
        "outputId": "554467a1-c813-4d0c-9ab0-9c359d88b241"
      },
      "outputs": [
        {
          "output_type": "execute_result",
          "data": {
            "text/html": [
              "\n",
              "  <div id=\"df-1d99cb87-9127-4583-b9b2-6e2a98c71739\">\n",
              "    <div class=\"colab-df-container\">\n",
              "      <div>\n",
              "<style scoped>\n",
              "    .dataframe tbody tr th:only-of-type {\n",
              "        vertical-align: middle;\n",
              "    }\n",
              "\n",
              "    .dataframe tbody tr th {\n",
              "        vertical-align: top;\n",
              "    }\n",
              "\n",
              "    .dataframe thead th {\n",
              "        text-align: right;\n",
              "    }\n",
              "</style>\n",
              "<table border=\"1\" class=\"dataframe\">\n",
              "  <thead>\n",
              "    <tr style=\"text-align: right;\">\n",
              "      <th></th>\n",
              "      <th>Popularity</th>\n",
              "      <th>danceability</th>\n",
              "      <th>energy</th>\n",
              "      <th>key</th>\n",
              "      <th>loudness</th>\n",
              "      <th>mode</th>\n",
              "      <th>speechiness</th>\n",
              "      <th>acousticness</th>\n",
              "      <th>instrumentalness</th>\n",
              "      <th>liveness</th>\n",
              "      <th>valence</th>\n",
              "      <th>tempo</th>\n",
              "      <th>duration_in min/ms</th>\n",
              "      <th>time_signature</th>\n",
              "      <th>Class</th>\n",
              "    </tr>\n",
              "  </thead>\n",
              "  <tbody>\n",
              "    <tr>\n",
              "      <th>count</th>\n",
              "      <td>17568.000000</td>\n",
              "      <td>17996.000000</td>\n",
              "      <td>17996.000000</td>\n",
              "      <td>15982.000000</td>\n",
              "      <td>17996.000000</td>\n",
              "      <td>17996.000000</td>\n",
              "      <td>17996.000000</td>\n",
              "      <td>17996.000000</td>\n",
              "      <td>13619.000000</td>\n",
              "      <td>17996.000000</td>\n",
              "      <td>17996.000000</td>\n",
              "      <td>17996.000000</td>\n",
              "      <td>1.799600e+04</td>\n",
              "      <td>17996.000000</td>\n",
              "      <td>17996.000000</td>\n",
              "    </tr>\n",
              "    <tr>\n",
              "      <th>mean</th>\n",
              "      <td>44.512124</td>\n",
              "      <td>0.543433</td>\n",
              "      <td>0.662777</td>\n",
              "      <td>5.952447</td>\n",
              "      <td>-7.910660</td>\n",
              "      <td>0.636753</td>\n",
              "      <td>0.079707</td>\n",
              "      <td>0.247082</td>\n",
              "      <td>0.177562</td>\n",
              "      <td>0.196170</td>\n",
              "      <td>0.486208</td>\n",
              "      <td>122.623294</td>\n",
              "      <td>2.007445e+05</td>\n",
              "      <td>3.924039</td>\n",
              "      <td>6.695821</td>\n",
              "    </tr>\n",
              "    <tr>\n",
              "      <th>std</th>\n",
              "      <td>17.426928</td>\n",
              "      <td>0.166268</td>\n",
              "      <td>0.235373</td>\n",
              "      <td>3.196854</td>\n",
              "      <td>4.049151</td>\n",
              "      <td>0.480949</td>\n",
              "      <td>0.083576</td>\n",
              "      <td>0.310632</td>\n",
              "      <td>0.304048</td>\n",
              "      <td>0.159212</td>\n",
              "      <td>0.240195</td>\n",
              "      <td>29.571527</td>\n",
              "      <td>1.119891e+05</td>\n",
              "      <td>0.361618</td>\n",
              "      <td>3.206073</td>\n",
              "    </tr>\n",
              "    <tr>\n",
              "      <th>min</th>\n",
              "      <td>1.000000</td>\n",
              "      <td>0.059600</td>\n",
              "      <td>0.000020</td>\n",
              "      <td>1.000000</td>\n",
              "      <td>-39.952000</td>\n",
              "      <td>0.000000</td>\n",
              "      <td>0.022500</td>\n",
              "      <td>0.000000</td>\n",
              "      <td>0.000001</td>\n",
              "      <td>0.011900</td>\n",
              "      <td>0.018300</td>\n",
              "      <td>30.557000</td>\n",
              "      <td>5.016500e-01</td>\n",
              "      <td>1.000000</td>\n",
              "      <td>0.000000</td>\n",
              "    </tr>\n",
              "    <tr>\n",
              "      <th>25%</th>\n",
              "      <td>33.000000</td>\n",
              "      <td>0.432000</td>\n",
              "      <td>0.509000</td>\n",
              "      <td>3.000000</td>\n",
              "      <td>-9.538000</td>\n",
              "      <td>0.000000</td>\n",
              "      <td>0.034800</td>\n",
              "      <td>0.004300</td>\n",
              "      <td>0.000089</td>\n",
              "      <td>0.097500</td>\n",
              "      <td>0.297000</td>\n",
              "      <td>99.620750</td>\n",
              "      <td>1.663370e+05</td>\n",
              "      <td>4.000000</td>\n",
              "      <td>5.000000</td>\n",
              "    </tr>\n",
              "    <tr>\n",
              "      <th>50%</th>\n",
              "      <td>44.000000</td>\n",
              "      <td>0.545000</td>\n",
              "      <td>0.700000</td>\n",
              "      <td>6.000000</td>\n",
              "      <td>-7.016000</td>\n",
              "      <td>1.000000</td>\n",
              "      <td>0.047400</td>\n",
              "      <td>0.081400</td>\n",
              "      <td>0.003910</td>\n",
              "      <td>0.129000</td>\n",
              "      <td>0.481000</td>\n",
              "      <td>120.065500</td>\n",
              "      <td>2.091600e+05</td>\n",
              "      <td>4.000000</td>\n",
              "      <td>8.000000</td>\n",
              "    </tr>\n",
              "    <tr>\n",
              "      <th>75%</th>\n",
              "      <td>56.000000</td>\n",
              "      <td>0.659000</td>\n",
              "      <td>0.860000</td>\n",
              "      <td>9.000000</td>\n",
              "      <td>-5.189000</td>\n",
              "      <td>1.000000</td>\n",
              "      <td>0.083000</td>\n",
              "      <td>0.434000</td>\n",
              "      <td>0.200000</td>\n",
              "      <td>0.258000</td>\n",
              "      <td>0.672000</td>\n",
              "      <td>141.969250</td>\n",
              "      <td>2.524900e+05</td>\n",
              "      <td>4.000000</td>\n",
              "      <td>10.000000</td>\n",
              "    </tr>\n",
              "    <tr>\n",
              "      <th>max</th>\n",
              "      <td>100.000000</td>\n",
              "      <td>0.989000</td>\n",
              "      <td>1.000000</td>\n",
              "      <td>11.000000</td>\n",
              "      <td>1.355000</td>\n",
              "      <td>1.000000</td>\n",
              "      <td>0.955000</td>\n",
              "      <td>0.996000</td>\n",
              "      <td>0.996000</td>\n",
              "      <td>1.000000</td>\n",
              "      <td>0.986000</td>\n",
              "      <td>217.416000</td>\n",
              "      <td>1.477187e+06</td>\n",
              "      <td>5.000000</td>\n",
              "      <td>10.000000</td>\n",
              "    </tr>\n",
              "  </tbody>\n",
              "</table>\n",
              "</div>\n",
              "      <button class=\"colab-df-convert\" onclick=\"convertToInteractive('df-1d99cb87-9127-4583-b9b2-6e2a98c71739')\"\n",
              "              title=\"Convert this dataframe to an interactive table.\"\n",
              "              style=\"display:none;\">\n",
              "        \n",
              "  <svg xmlns=\"http://www.w3.org/2000/svg\" height=\"24px\"viewBox=\"0 0 24 24\"\n",
              "       width=\"24px\">\n",
              "    <path d=\"M0 0h24v24H0V0z\" fill=\"none\"/>\n",
              "    <path d=\"M18.56 5.44l.94 2.06.94-2.06 2.06-.94-2.06-.94-.94-2.06-.94 2.06-2.06.94zm-11 1L8.5 8.5l.94-2.06 2.06-.94-2.06-.94L8.5 2.5l-.94 2.06-2.06.94zm10 10l.94 2.06.94-2.06 2.06-.94-2.06-.94-.94-2.06-.94 2.06-2.06.94z\"/><path d=\"M17.41 7.96l-1.37-1.37c-.4-.4-.92-.59-1.43-.59-.52 0-1.04.2-1.43.59L10.3 9.45l-7.72 7.72c-.78.78-.78 2.05 0 2.83L4 21.41c.39.39.9.59 1.41.59.51 0 1.02-.2 1.41-.59l7.78-7.78 2.81-2.81c.8-.78.8-2.07 0-2.86zM5.41 20L4 18.59l7.72-7.72 1.47 1.35L5.41 20z\"/>\n",
              "  </svg>\n",
              "      </button>\n",
              "      \n",
              "  <style>\n",
              "    .colab-df-container {\n",
              "      display:flex;\n",
              "      flex-wrap:wrap;\n",
              "      gap: 12px;\n",
              "    }\n",
              "\n",
              "    .colab-df-convert {\n",
              "      background-color: #E8F0FE;\n",
              "      border: none;\n",
              "      border-radius: 50%;\n",
              "      cursor: pointer;\n",
              "      display: none;\n",
              "      fill: #1967D2;\n",
              "      height: 32px;\n",
              "      padding: 0 0 0 0;\n",
              "      width: 32px;\n",
              "    }\n",
              "\n",
              "    .colab-df-convert:hover {\n",
              "      background-color: #E2EBFA;\n",
              "      box-shadow: 0px 1px 2px rgba(60, 64, 67, 0.3), 0px 1px 3px 1px rgba(60, 64, 67, 0.15);\n",
              "      fill: #174EA6;\n",
              "    }\n",
              "\n",
              "    [theme=dark] .colab-df-convert {\n",
              "      background-color: #3B4455;\n",
              "      fill: #D2E3FC;\n",
              "    }\n",
              "\n",
              "    [theme=dark] .colab-df-convert:hover {\n",
              "      background-color: #434B5C;\n",
              "      box-shadow: 0px 1px 3px 1px rgba(0, 0, 0, 0.15);\n",
              "      filter: drop-shadow(0px 1px 2px rgba(0, 0, 0, 0.3));\n",
              "      fill: #FFFFFF;\n",
              "    }\n",
              "  </style>\n",
              "\n",
              "      <script>\n",
              "        const buttonEl =\n",
              "          document.querySelector('#df-1d99cb87-9127-4583-b9b2-6e2a98c71739 button.colab-df-convert');\n",
              "        buttonEl.style.display =\n",
              "          google.colab.kernel.accessAllowed ? 'block' : 'none';\n",
              "\n",
              "        async function convertToInteractive(key) {\n",
              "          const element = document.querySelector('#df-1d99cb87-9127-4583-b9b2-6e2a98c71739');\n",
              "          const dataTable =\n",
              "            await google.colab.kernel.invokeFunction('convertToInteractive',\n",
              "                                                     [key], {});\n",
              "          if (!dataTable) return;\n",
              "\n",
              "          const docLinkHtml = 'Like what you see? Visit the ' +\n",
              "            '<a target=\"_blank\" href=https://colab.research.google.com/notebooks/data_table.ipynb>data table notebook</a>'\n",
              "            + ' to learn more about interactive tables.';\n",
              "          element.innerHTML = '';\n",
              "          dataTable['output_type'] = 'display_data';\n",
              "          await google.colab.output.renderOutput(dataTable, element);\n",
              "          const docLink = document.createElement('div');\n",
              "          docLink.innerHTML = docLinkHtml;\n",
              "          element.appendChild(docLink);\n",
              "        }\n",
              "      </script>\n",
              "    </div>\n",
              "  </div>\n",
              "  "
            ],
            "text/plain": [
              "         Popularity  danceability  ...  time_signature         Class\n",
              "count  17568.000000  17996.000000  ...    17996.000000  17996.000000\n",
              "mean      44.512124      0.543433  ...        3.924039      6.695821\n",
              "std       17.426928      0.166268  ...        0.361618      3.206073\n",
              "min        1.000000      0.059600  ...        1.000000      0.000000\n",
              "25%       33.000000      0.432000  ...        4.000000      5.000000\n",
              "50%       44.000000      0.545000  ...        4.000000      8.000000\n",
              "75%       56.000000      0.659000  ...        4.000000     10.000000\n",
              "max      100.000000      0.989000  ...        5.000000     10.000000\n",
              "\n",
              "[8 rows x 15 columns]"
            ]
          },
          "metadata": {},
          "execution_count": 5
        }
      ],
      "source": [
        "data.describe()"
      ]
    },
    {
      "cell_type": "code",
      "execution_count": 6,
      "metadata": {
        "colab": {
          "base_uri": "https://localhost:8080/",
          "height": 612
        },
        "id": "Ium4nyzOm3Es",
        "outputId": "baace5a0-57a8-4806-bfaa-800efb753a04"
      },
      "outputs": [
        {
          "output_type": "execute_result",
          "data": {
            "text/html": [
              "\n",
              "  <div id=\"df-7b8c0bf2-4973-4379-bf41-031c636594ce\">\n",
              "    <div class=\"colab-df-container\">\n",
              "      <div>\n",
              "<style scoped>\n",
              "    .dataframe tbody tr th:only-of-type {\n",
              "        vertical-align: middle;\n",
              "    }\n",
              "\n",
              "    .dataframe tbody tr th {\n",
              "        vertical-align: top;\n",
              "    }\n",
              "\n",
              "    .dataframe thead th {\n",
              "        text-align: right;\n",
              "    }\n",
              "</style>\n",
              "<table border=\"1\" class=\"dataframe\">\n",
              "  <thead>\n",
              "    <tr style=\"text-align: right;\">\n",
              "      <th></th>\n",
              "      <th>Popularity</th>\n",
              "      <th>danceability</th>\n",
              "      <th>energy</th>\n",
              "      <th>key</th>\n",
              "      <th>loudness</th>\n",
              "      <th>mode</th>\n",
              "      <th>speechiness</th>\n",
              "      <th>acousticness</th>\n",
              "      <th>instrumentalness</th>\n",
              "      <th>liveness</th>\n",
              "      <th>valence</th>\n",
              "      <th>tempo</th>\n",
              "      <th>duration_in min/ms</th>\n",
              "      <th>time_signature</th>\n",
              "      <th>Class</th>\n",
              "    </tr>\n",
              "  </thead>\n",
              "  <tbody>\n",
              "    <tr>\n",
              "      <th>Popularity</th>\n",
              "      <td>1.000000</td>\n",
              "      <td>0.167213</td>\n",
              "      <td>0.051538</td>\n",
              "      <td>0.005901</td>\n",
              "      <td>0.124915</td>\n",
              "      <td>0.016584</td>\n",
              "      <td>0.031664</td>\n",
              "      <td>-0.125410</td>\n",
              "      <td>-0.167661</td>\n",
              "      <td>-0.072298</td>\n",
              "      <td>0.054824</td>\n",
              "      <td>-0.006050</td>\n",
              "      <td>-0.031118</td>\n",
              "      <td>0.067062</td>\n",
              "      <td>0.161072</td>\n",
              "    </tr>\n",
              "    <tr>\n",
              "      <th>danceability</th>\n",
              "      <td>0.167213</td>\n",
              "      <td>1.000000</td>\n",
              "      <td>-0.093838</td>\n",
              "      <td>0.006702</td>\n",
              "      <td>0.059723</td>\n",
              "      <td>-0.067135</td>\n",
              "      <td>0.199042</td>\n",
              "      <td>0.009055</td>\n",
              "      <td>-0.200752</td>\n",
              "      <td>-0.109485</td>\n",
              "      <td>0.444548</td>\n",
              "      <td>-0.183527</td>\n",
              "      <td>-0.121624</td>\n",
              "      <td>0.137455</td>\n",
              "      <td>-0.097681</td>\n",
              "    </tr>\n",
              "    <tr>\n",
              "      <th>energy</th>\n",
              "      <td>0.051538</td>\n",
              "      <td>-0.093838</td>\n",
              "      <td>1.000000</td>\n",
              "      <td>0.015934</td>\n",
              "      <td>0.767869</td>\n",
              "      <td>-0.035880</td>\n",
              "      <td>0.125427</td>\n",
              "      <td>-0.745963</td>\n",
              "      <td>-0.180276</td>\n",
              "      <td>0.195634</td>\n",
              "      <td>0.222998</td>\n",
              "      <td>0.210224</td>\n",
              "      <td>0.245768</td>\n",
              "      <td>0.145281</td>\n",
              "      <td>0.217328</td>\n",
              "    </tr>\n",
              "    <tr>\n",
              "      <th>key</th>\n",
              "      <td>0.005901</td>\n",
              "      <td>0.006702</td>\n",
              "      <td>0.015934</td>\n",
              "      <td>1.000000</td>\n",
              "      <td>0.002660</td>\n",
              "      <td>-0.112452</td>\n",
              "      <td>0.001822</td>\n",
              "      <td>-0.009112</td>\n",
              "      <td>0.001411</td>\n",
              "      <td>0.015125</td>\n",
              "      <td>0.031744</td>\n",
              "      <td>0.013965</td>\n",
              "      <td>0.014547</td>\n",
              "      <td>0.006965</td>\n",
              "      <td>-0.007829</td>\n",
              "    </tr>\n",
              "    <tr>\n",
              "      <th>loudness</th>\n",
              "      <td>0.124915</td>\n",
              "      <td>0.059723</td>\n",
              "      <td>0.767869</td>\n",
              "      <td>0.002660</td>\n",
              "      <td>1.000000</td>\n",
              "      <td>-0.033650</td>\n",
              "      <td>0.096027</td>\n",
              "      <td>-0.612824</td>\n",
              "      <td>-0.343672</td>\n",
              "      <td>0.112022</td>\n",
              "      <td>0.181086</td>\n",
              "      <td>0.164272</td>\n",
              "      <td>0.172010</td>\n",
              "      <td>0.127775</td>\n",
              "      <td>0.177872</td>\n",
              "    </tr>\n",
              "    <tr>\n",
              "      <th>mode</th>\n",
              "      <td>0.016584</td>\n",
              "      <td>-0.067135</td>\n",
              "      <td>-0.035880</td>\n",
              "      <td>-0.112452</td>\n",
              "      <td>-0.033650</td>\n",
              "      <td>1.000000</td>\n",
              "      <td>-0.074609</td>\n",
              "      <td>0.024035</td>\n",
              "      <td>-0.026771</td>\n",
              "      <td>-0.001563</td>\n",
              "      <td>-0.002986</td>\n",
              "      <td>0.021211</td>\n",
              "      <td>-0.069307</td>\n",
              "      <td>-0.019989</td>\n",
              "      <td>-0.044740</td>\n",
              "    </tr>\n",
              "    <tr>\n",
              "      <th>speechiness</th>\n",
              "      <td>0.031664</td>\n",
              "      <td>0.199042</td>\n",
              "      <td>0.125427</td>\n",
              "      <td>0.001822</td>\n",
              "      <td>0.096027</td>\n",
              "      <td>-0.074609</td>\n",
              "      <td>1.000000</td>\n",
              "      <td>-0.086648</td>\n",
              "      <td>-0.067632</td>\n",
              "      <td>0.070406</td>\n",
              "      <td>0.053885</td>\n",
              "      <td>0.048948</td>\n",
              "      <td>0.005044</td>\n",
              "      <td>0.056237</td>\n",
              "      <td>-0.059349</td>\n",
              "    </tr>\n",
              "    <tr>\n",
              "      <th>acousticness</th>\n",
              "      <td>-0.125410</td>\n",
              "      <td>0.009055</td>\n",
              "      <td>-0.745963</td>\n",
              "      <td>-0.009112</td>\n",
              "      <td>-0.612824</td>\n",
              "      <td>0.024035</td>\n",
              "      <td>-0.086648</td>\n",
              "      <td>1.000000</td>\n",
              "      <td>0.174139</td>\n",
              "      <td>-0.111393</td>\n",
              "      <td>-0.122547</td>\n",
              "      <td>-0.168318</td>\n",
              "      <td>-0.322583</td>\n",
              "      <td>-0.133936</td>\n",
              "      <td>-0.237138</td>\n",
              "    </tr>\n",
              "    <tr>\n",
              "      <th>instrumentalness</th>\n",
              "      <td>-0.167661</td>\n",
              "      <td>-0.200752</td>\n",
              "      <td>-0.180276</td>\n",
              "      <td>0.001411</td>\n",
              "      <td>-0.343672</td>\n",
              "      <td>-0.026771</td>\n",
              "      <td>-0.067632</td>\n",
              "      <td>0.174139</td>\n",
              "      <td>1.000000</td>\n",
              "      <td>-0.047189</td>\n",
              "      <td>-0.228144</td>\n",
              "      <td>-0.038586</td>\n",
              "      <td>-0.004551</td>\n",
              "      <td>-0.061745</td>\n",
              "      <td>-0.025343</td>\n",
              "    </tr>\n",
              "    <tr>\n",
              "      <th>liveness</th>\n",
              "      <td>-0.072298</td>\n",
              "      <td>-0.109485</td>\n",
              "      <td>0.195634</td>\n",
              "      <td>0.015125</td>\n",
              "      <td>0.112022</td>\n",
              "      <td>-0.001563</td>\n",
              "      <td>0.070406</td>\n",
              "      <td>-0.111393</td>\n",
              "      <td>-0.047189</td>\n",
              "      <td>1.000000</td>\n",
              "      <td>0.021076</td>\n",
              "      <td>0.033515</td>\n",
              "      <td>0.053885</td>\n",
              "      <td>0.021546</td>\n",
              "      <td>0.045309</td>\n",
              "    </tr>\n",
              "    <tr>\n",
              "      <th>valence</th>\n",
              "      <td>0.054824</td>\n",
              "      <td>0.444548</td>\n",
              "      <td>0.222998</td>\n",
              "      <td>0.031744</td>\n",
              "      <td>0.181086</td>\n",
              "      <td>-0.002986</td>\n",
              "      <td>0.053885</td>\n",
              "      <td>-0.122547</td>\n",
              "      <td>-0.228144</td>\n",
              "      <td>0.021076</td>\n",
              "      <td>1.000000</td>\n",
              "      <td>0.051128</td>\n",
              "      <td>-0.097126</td>\n",
              "      <td>0.112479</td>\n",
              "      <td>-0.075116</td>\n",
              "    </tr>\n",
              "    <tr>\n",
              "      <th>tempo</th>\n",
              "      <td>-0.006050</td>\n",
              "      <td>-0.183527</td>\n",
              "      <td>0.210224</td>\n",
              "      <td>0.013965</td>\n",
              "      <td>0.164272</td>\n",
              "      <td>0.021211</td>\n",
              "      <td>0.048948</td>\n",
              "      <td>-0.168318</td>\n",
              "      <td>-0.038586</td>\n",
              "      <td>0.033515</td>\n",
              "      <td>0.051128</td>\n",
              "      <td>1.000000</td>\n",
              "      <td>0.045133</td>\n",
              "      <td>-0.034642</td>\n",
              "      <td>0.031737</td>\n",
              "    </tr>\n",
              "    <tr>\n",
              "      <th>duration_in min/ms</th>\n",
              "      <td>-0.031118</td>\n",
              "      <td>-0.121624</td>\n",
              "      <td>0.245768</td>\n",
              "      <td>0.014547</td>\n",
              "      <td>0.172010</td>\n",
              "      <td>-0.069307</td>\n",
              "      <td>0.005044</td>\n",
              "      <td>-0.322583</td>\n",
              "      <td>-0.004551</td>\n",
              "      <td>0.053885</td>\n",
              "      <td>-0.097126</td>\n",
              "      <td>0.045133</td>\n",
              "      <td>1.000000</td>\n",
              "      <td>0.007411</td>\n",
              "      <td>0.203678</td>\n",
              "    </tr>\n",
              "    <tr>\n",
              "      <th>time_signature</th>\n",
              "      <td>0.067062</td>\n",
              "      <td>0.137455</td>\n",
              "      <td>0.145281</td>\n",
              "      <td>0.006965</td>\n",
              "      <td>0.127775</td>\n",
              "      <td>-0.019989</td>\n",
              "      <td>0.056237</td>\n",
              "      <td>-0.133936</td>\n",
              "      <td>-0.061745</td>\n",
              "      <td>0.021546</td>\n",
              "      <td>0.112479</td>\n",
              "      <td>-0.034642</td>\n",
              "      <td>0.007411</td>\n",
              "      <td>1.000000</td>\n",
              "      <td>0.047989</td>\n",
              "    </tr>\n",
              "    <tr>\n",
              "      <th>Class</th>\n",
              "      <td>0.161072</td>\n",
              "      <td>-0.097681</td>\n",
              "      <td>0.217328</td>\n",
              "      <td>-0.007829</td>\n",
              "      <td>0.177872</td>\n",
              "      <td>-0.044740</td>\n",
              "      <td>-0.059349</td>\n",
              "      <td>-0.237138</td>\n",
              "      <td>-0.025343</td>\n",
              "      <td>0.045309</td>\n",
              "      <td>-0.075116</td>\n",
              "      <td>0.031737</td>\n",
              "      <td>0.203678</td>\n",
              "      <td>0.047989</td>\n",
              "      <td>1.000000</td>\n",
              "    </tr>\n",
              "  </tbody>\n",
              "</table>\n",
              "</div>\n",
              "      <button class=\"colab-df-convert\" onclick=\"convertToInteractive('df-7b8c0bf2-4973-4379-bf41-031c636594ce')\"\n",
              "              title=\"Convert this dataframe to an interactive table.\"\n",
              "              style=\"display:none;\">\n",
              "        \n",
              "  <svg xmlns=\"http://www.w3.org/2000/svg\" height=\"24px\"viewBox=\"0 0 24 24\"\n",
              "       width=\"24px\">\n",
              "    <path d=\"M0 0h24v24H0V0z\" fill=\"none\"/>\n",
              "    <path d=\"M18.56 5.44l.94 2.06.94-2.06 2.06-.94-2.06-.94-.94-2.06-.94 2.06-2.06.94zm-11 1L8.5 8.5l.94-2.06 2.06-.94-2.06-.94L8.5 2.5l-.94 2.06-2.06.94zm10 10l.94 2.06.94-2.06 2.06-.94-2.06-.94-.94-2.06-.94 2.06-2.06.94z\"/><path d=\"M17.41 7.96l-1.37-1.37c-.4-.4-.92-.59-1.43-.59-.52 0-1.04.2-1.43.59L10.3 9.45l-7.72 7.72c-.78.78-.78 2.05 0 2.83L4 21.41c.39.39.9.59 1.41.59.51 0 1.02-.2 1.41-.59l7.78-7.78 2.81-2.81c.8-.78.8-2.07 0-2.86zM5.41 20L4 18.59l7.72-7.72 1.47 1.35L5.41 20z\"/>\n",
              "  </svg>\n",
              "      </button>\n",
              "      \n",
              "  <style>\n",
              "    .colab-df-container {\n",
              "      display:flex;\n",
              "      flex-wrap:wrap;\n",
              "      gap: 12px;\n",
              "    }\n",
              "\n",
              "    .colab-df-convert {\n",
              "      background-color: #E8F0FE;\n",
              "      border: none;\n",
              "      border-radius: 50%;\n",
              "      cursor: pointer;\n",
              "      display: none;\n",
              "      fill: #1967D2;\n",
              "      height: 32px;\n",
              "      padding: 0 0 0 0;\n",
              "      width: 32px;\n",
              "    }\n",
              "\n",
              "    .colab-df-convert:hover {\n",
              "      background-color: #E2EBFA;\n",
              "      box-shadow: 0px 1px 2px rgba(60, 64, 67, 0.3), 0px 1px 3px 1px rgba(60, 64, 67, 0.15);\n",
              "      fill: #174EA6;\n",
              "    }\n",
              "\n",
              "    [theme=dark] .colab-df-convert {\n",
              "      background-color: #3B4455;\n",
              "      fill: #D2E3FC;\n",
              "    }\n",
              "\n",
              "    [theme=dark] .colab-df-convert:hover {\n",
              "      background-color: #434B5C;\n",
              "      box-shadow: 0px 1px 3px 1px rgba(0, 0, 0, 0.15);\n",
              "      filter: drop-shadow(0px 1px 2px rgba(0, 0, 0, 0.3));\n",
              "      fill: #FFFFFF;\n",
              "    }\n",
              "  </style>\n",
              "\n",
              "      <script>\n",
              "        const buttonEl =\n",
              "          document.querySelector('#df-7b8c0bf2-4973-4379-bf41-031c636594ce button.colab-df-convert');\n",
              "        buttonEl.style.display =\n",
              "          google.colab.kernel.accessAllowed ? 'block' : 'none';\n",
              "\n",
              "        async function convertToInteractive(key) {\n",
              "          const element = document.querySelector('#df-7b8c0bf2-4973-4379-bf41-031c636594ce');\n",
              "          const dataTable =\n",
              "            await google.colab.kernel.invokeFunction('convertToInteractive',\n",
              "                                                     [key], {});\n",
              "          if (!dataTable) return;\n",
              "\n",
              "          const docLinkHtml = 'Like what you see? Visit the ' +\n",
              "            '<a target=\"_blank\" href=https://colab.research.google.com/notebooks/data_table.ipynb>data table notebook</a>'\n",
              "            + ' to learn more about interactive tables.';\n",
              "          element.innerHTML = '';\n",
              "          dataTable['output_type'] = 'display_data';\n",
              "          await google.colab.output.renderOutput(dataTable, element);\n",
              "          const docLink = document.createElement('div');\n",
              "          docLink.innerHTML = docLinkHtml;\n",
              "          element.appendChild(docLink);\n",
              "        }\n",
              "      </script>\n",
              "    </div>\n",
              "  </div>\n",
              "  "
            ],
            "text/plain": [
              "                    Popularity  danceability  ...  time_signature     Class\n",
              "Popularity            1.000000      0.167213  ...        0.067062  0.161072\n",
              "danceability          0.167213      1.000000  ...        0.137455 -0.097681\n",
              "energy                0.051538     -0.093838  ...        0.145281  0.217328\n",
              "key                   0.005901      0.006702  ...        0.006965 -0.007829\n",
              "loudness              0.124915      0.059723  ...        0.127775  0.177872\n",
              "mode                  0.016584     -0.067135  ...       -0.019989 -0.044740\n",
              "speechiness           0.031664      0.199042  ...        0.056237 -0.059349\n",
              "acousticness         -0.125410      0.009055  ...       -0.133936 -0.237138\n",
              "instrumentalness     -0.167661     -0.200752  ...       -0.061745 -0.025343\n",
              "liveness             -0.072298     -0.109485  ...        0.021546  0.045309\n",
              "valence               0.054824      0.444548  ...        0.112479 -0.075116\n",
              "tempo                -0.006050     -0.183527  ...       -0.034642  0.031737\n",
              "duration_in min/ms   -0.031118     -0.121624  ...        0.007411  0.203678\n",
              "time_signature        0.067062      0.137455  ...        1.000000  0.047989\n",
              "Class                 0.161072     -0.097681  ...        0.047989  1.000000\n",
              "\n",
              "[15 rows x 15 columns]"
            ]
          },
          "metadata": {},
          "execution_count": 6
        }
      ],
      "source": [
        "corr_mat = data.corr()\n",
        "corr_mat"
      ]
    },
    {
      "cell_type": "code",
      "execution_count": 7,
      "metadata": {
        "colab": {
          "base_uri": "https://localhost:8080/",
          "height": 356
        },
        "id": "fjJJKToInzwt",
        "outputId": "9a6cf880-32f4-4097-cc90-fe9f4085d7f2"
      },
      "outputs": [
        {
          "output_type": "display_data",
          "data": {
            "image/png": "[encoded data removed]",
            "text/plain": [
              "<Figure size 432x288 with 2 Axes>"
            ]
          },
          "metadata": {
            "needs_background": "light"
          }
        }
      ],
      "source": [
        "sns.heatmap(corr_mat, square=True, cmap='coolwarm')\n",
        "pass"
      ]
    },
    {
      "cell_type": "code",
      "execution_count": 8,
      "metadata": {
        "colab": {
          "base_uri": "https://localhost:8080/"
        },
        "id": "X1fhUSfrKoiE",
        "outputId": "cb5e2fab-f1c4-44ae-82ab-29c67f8151f4"
      },
      "outputs": [
        {
          "output_type": "execute_result",
          "data": {
            "text/plain": [
              "Artist Name            object\n",
              "Track Name             object\n",
              "Popularity            float64\n",
              "danceability          float64\n",
              "energy                float64\n",
              "key                   float64\n",
              "loudness              float64\n",
              "mode                    int64\n",
              "speechiness           float64\n",
              "acousticness          float64\n",
              "instrumentalness      float64\n",
              "liveness              float64\n",
              "valence               float64\n",
              "tempo                 float64\n",
              "duration_in min/ms    float64\n",
              "time_signature          int64\n",
              "Class                   int64\n",
              "dtype: object"
            ]
          },
          "metadata": {},
          "execution_count": 8
        }
      ],
      "source": [
        "data.dtypes"
      ]
    },
    {
      "cell_type": "code",
      "execution_count": 9,
      "metadata": {
        "id": "ohqLvJ7Co8np"
      },
      "outputs": [],
      "source": [
        "from sklearn import preprocessing\n",
        "data[\"Artist Name\"] = data[\"Artist Name\"].astype(str)\n",
        "\n",
        "number = preprocessing.LabelEncoder()\n",
        "data[\"Artist Name\"] = number.fit_transform(data[\"Artist Name\"])"
      ]
    },
    {
      "cell_type": "code",
      "execution_count": 10,
      "metadata": {
        "colab": {
          "base_uri": "https://localhost:8080/"
        },
        "id": "JyQRch6CM-HD",
        "outputId": "5b50179a-332d-4cf1-f9d5-3cb2f2701420"
      },
      "outputs": [
        {
          "output_type": "execute_result",
          "data": {
            "text/plain": [
              "(17996, 15)"
            ]
          },
          "metadata": {},
          "execution_count": 10
        }
      ],
      "source": [
        "del data['Track Name']\n",
        "del data['Artist Name']\n",
        "data.shape"
      ]
    },
    {
      "cell_type": "code",
      "execution_count": 11,
      "metadata": {
        "colab": {
          "base_uri": "https://localhost:8080/"
        },
        "id": "_5LZzUeOrEQ6",
        "outputId": "e14627ef-7820-40c2-dafd-e1f249bc229e"
      },
      "outputs": [
        {
          "output_type": "execute_result",
          "data": {
            "text/plain": [
              "Popularity            float64\n",
              "danceability          float64\n",
              "energy                float64\n",
              "key                   float64\n",
              "loudness              float64\n",
              "mode                    int64\n",
              "speechiness           float64\n",
              "acousticness          float64\n",
              "instrumentalness      float64\n",
              "liveness              float64\n",
              "valence               float64\n",
              "tempo                 float64\n",
              "duration_in min/ms    float64\n",
              "time_signature          int64\n",
              "Class                   int64\n",
              "dtype: object"
            ]
          },
          "metadata": {},
          "execution_count": 11
        }
      ],
      "source": [
        "data.dtypes"
      ]
    },
    {
      "cell_type": "markdown",
      "metadata": {
        "id": "dZJJf8anNu9l"
      },
      "source": [
        "Теперь все признаки количественные. Ищем пропущенные значения и убираем их, как в задаче №1."
      ]
    },
    {
      "cell_type": "code",
      "execution_count": 12,
      "metadata": {
        "colab": {
          "base_uri": "https://localhost:8080/"
        },
        "id": "1xJWHxq3NJmf",
        "outputId": "0b9e51c3-fac6-4688-e41f-6e31f4d3fc74"
      },
      "outputs": [
        {
          "output_type": "execute_result",
          "data": {
            "text/plain": [
              "Popularity             428\n",
              "danceability             0\n",
              "energy                   0\n",
              "key                   2014\n",
              "loudness                 0\n",
              "mode                     0\n",
              "speechiness              0\n",
              "acousticness             0\n",
              "instrumentalness      4377\n",
              "liveness                 0\n",
              "valence                  0\n",
              "tempo                    0\n",
              "duration_in min/ms       0\n",
              "time_signature           0\n",
              "Class                    0\n",
              "dtype: int64"
            ]
          },
          "metadata": {},
          "execution_count": 12
        }
      ],
      "source": [
        "data.isna().sum()"
      ]
    },
    {
      "cell_type": "code",
      "execution_count": 13,
      "metadata": {
        "colab": {
          "base_uri": "https://localhost:8080/",
          "height": 378
        },
        "id": "udDVkQAwRRHt",
        "outputId": "f8024c75-dfb7-4e1d-b161-ddac2230471d"
      },
      "outputs": [
        {
          "output_type": "execute_result",
          "data": {
            "text/html": [
              "\n",
              "  <div id=\"df-51394b28-1f99-4f38-a824-cc42f5ba036b\">\n",
              "    <div class=\"colab-df-container\">\n",
              "      <div>\n",
              "<style scoped>\n",
              "    .dataframe tbody tr th:only-of-type {\n",
              "        vertical-align: middle;\n",
              "    }\n",
              "\n",
              "    .dataframe tbody tr th {\n",
              "        vertical-align: top;\n",
              "    }\n",
              "\n",
              "    .dataframe thead th {\n",
              "        text-align: right;\n",
              "    }\n",
              "</style>\n",
              "<table border=\"1\" class=\"dataframe\">\n",
              "  <thead>\n",
              "    <tr style=\"text-align: right;\">\n",
              "      <th></th>\n",
              "      <th>Popularity</th>\n",
              "      <th>danceability</th>\n",
              "      <th>energy</th>\n",
              "      <th>key</th>\n",
              "      <th>loudness</th>\n",
              "      <th>mode</th>\n",
              "      <th>speechiness</th>\n",
              "      <th>acousticness</th>\n",
              "      <th>instrumentalness</th>\n",
              "      <th>liveness</th>\n",
              "      <th>valence</th>\n",
              "      <th>tempo</th>\n",
              "      <th>duration_in min/ms</th>\n",
              "      <th>time_signature</th>\n",
              "      <th>Class</th>\n",
              "    </tr>\n",
              "  </thead>\n",
              "  <tbody>\n",
              "    <tr>\n",
              "      <th>count</th>\n",
              "      <td>17996.000000</td>\n",
              "      <td>17996.000000</td>\n",
              "      <td>17996.000000</td>\n",
              "      <td>17996.000000</td>\n",
              "      <td>17996.000000</td>\n",
              "      <td>17996.000000</td>\n",
              "      <td>17996.000000</td>\n",
              "      <td>17996.000000</td>\n",
              "      <td>17996.000000</td>\n",
              "      <td>17996.000000</td>\n",
              "      <td>17996.000000</td>\n",
              "      <td>17996.000000</td>\n",
              "      <td>1.799600e+04</td>\n",
              "      <td>17996.000000</td>\n",
              "      <td>17996.000000</td>\n",
              "    </tr>\n",
              "    <tr>\n",
              "      <th>mean</th>\n",
              "      <td>44.499944</td>\n",
              "      <td>0.543433</td>\n",
              "      <td>0.662777</td>\n",
              "      <td>5.957768</td>\n",
              "      <td>-7.910660</td>\n",
              "      <td>0.636753</td>\n",
              "      <td>0.079707</td>\n",
              "      <td>0.247082</td>\n",
              "      <td>0.135326</td>\n",
              "      <td>0.196170</td>\n",
              "      <td>0.486208</td>\n",
              "      <td>122.623294</td>\n",
              "      <td>2.007445e+05</td>\n",
              "      <td>3.924039</td>\n",
              "      <td>6.695821</td>\n",
              "    </tr>\n",
              "    <tr>\n",
              "      <th>std</th>\n",
              "      <td>17.218613</td>\n",
              "      <td>0.166268</td>\n",
              "      <td>0.235373</td>\n",
              "      <td>3.012689</td>\n",
              "      <td>4.049151</td>\n",
              "      <td>0.480949</td>\n",
              "      <td>0.083576</td>\n",
              "      <td>0.310632</td>\n",
              "      <td>0.274791</td>\n",
              "      <td>0.159212</td>\n",
              "      <td>0.240195</td>\n",
              "      <td>29.571527</td>\n",
              "      <td>1.119891e+05</td>\n",
              "      <td>0.361618</td>\n",
              "      <td>3.206073</td>\n",
              "    </tr>\n",
              "    <tr>\n",
              "      <th>min</th>\n",
              "      <td>1.000000</td>\n",
              "      <td>0.059600</td>\n",
              "      <td>0.000020</td>\n",
              "      <td>1.000000</td>\n",
              "      <td>-39.952000</td>\n",
              "      <td>0.000000</td>\n",
              "      <td>0.022500</td>\n",
              "      <td>0.000000</td>\n",
              "      <td>0.000001</td>\n",
              "      <td>0.011900</td>\n",
              "      <td>0.018300</td>\n",
              "      <td>30.557000</td>\n",
              "      <td>5.016500e-01</td>\n",
              "      <td>1.000000</td>\n",
              "      <td>0.000000</td>\n",
              "    </tr>\n",
              "    <tr>\n",
              "      <th>25%</th>\n",
              "      <td>33.000000</td>\n",
              "      <td>0.432000</td>\n",
              "      <td>0.509000</td>\n",
              "      <td>4.000000</td>\n",
              "      <td>-9.538000</td>\n",
              "      <td>0.000000</td>\n",
              "      <td>0.034800</td>\n",
              "      <td>0.004300</td>\n",
              "      <td>0.000294</td>\n",
              "      <td>0.097500</td>\n",
              "      <td>0.297000</td>\n",
              "      <td>99.620750</td>\n",
              "      <td>1.663370e+05</td>\n",
              "      <td>4.000000</td>\n",
              "      <td>5.000000</td>\n",
              "    </tr>\n",
              "    <tr>\n",
              "      <th>50%</th>\n",
              "      <td>44.000000</td>\n",
              "      <td>0.545000</td>\n",
              "      <td>0.700000</td>\n",
              "      <td>6.000000</td>\n",
              "      <td>-7.016000</td>\n",
              "      <td>1.000000</td>\n",
              "      <td>0.047400</td>\n",
              "      <td>0.081400</td>\n",
              "      <td>0.003910</td>\n",
              "      <td>0.129000</td>\n",
              "      <td>0.481000</td>\n",
              "      <td>120.065500</td>\n",
              "      <td>2.091600e+05</td>\n",
              "      <td>4.000000</td>\n",
              "      <td>8.000000</td>\n",
              "    </tr>\n",
              "    <tr>\n",
              "      <th>75%</th>\n",
              "      <td>56.000000</td>\n",
              "      <td>0.659000</td>\n",
              "      <td>0.860000</td>\n",
              "      <td>8.000000</td>\n",
              "      <td>-5.189000</td>\n",
              "      <td>1.000000</td>\n",
              "      <td>0.083000</td>\n",
              "      <td>0.434000</td>\n",
              "      <td>0.056600</td>\n",
              "      <td>0.258000</td>\n",
              "      <td>0.672000</td>\n",
              "      <td>141.969250</td>\n",
              "      <td>2.524900e+05</td>\n",
              "      <td>4.000000</td>\n",
              "      <td>10.000000</td>\n",
              "    </tr>\n",
              "    <tr>\n",
              "      <th>max</th>\n",
              "      <td>100.000000</td>\n",
              "      <td>0.989000</td>\n",
              "      <td>1.000000</td>\n",
              "      <td>11.000000</td>\n",
              "      <td>1.355000</td>\n",
              "      <td>1.000000</td>\n",
              "      <td>0.955000</td>\n",
              "      <td>0.996000</td>\n",
              "      <td>0.996000</td>\n",
              "      <td>1.000000</td>\n",
              "      <td>0.986000</td>\n",
              "      <td>217.416000</td>\n",
              "      <td>1.477187e+06</td>\n",
              "      <td>5.000000</td>\n",
              "      <td>10.000000</td>\n",
              "    </tr>\n",
              "  </tbody>\n",
              "</table>\n",
              "</div>\n",
              "      <button class=\"colab-df-convert\" onclick=\"convertToInteractive('df-51394b28-1f99-4f38-a824-cc42f5ba036b')\"\n",
              "              title=\"Convert this dataframe to an interactive table.\"\n",
              "              style=\"display:none;\">\n",
              "        \n",
              "  <svg xmlns=\"http://www.w3.org/2000/svg\" height=\"24px\"viewBox=\"0 0 24 24\"\n",
              "       width=\"24px\">\n",
              "    <path d=\"M0 0h24v24H0V0z\" fill=\"none\"/>\n",
              "    <path d=\"M18.56 5.44l.94 2.06.94-2.06 2.06-.94-2.06-.94-.94-2.06-.94 2.06-2.06.94zm-11 1L8.5 8.5l.94-2.06 2.06-.94-2.06-.94L8.5 2.5l-.94 2.06-2.06.94zm10 10l.94 2.06.94-2.06 2.06-.94-2.06-.94-.94-2.06-.94 2.06-2.06.94z\"/><path d=\"M17.41 7.96l-1.37-1.37c-.4-.4-.92-.59-1.43-.59-.52 0-1.04.2-1.43.59L10.3 9.45l-7.72 7.72c-.78.78-.78 2.05 0 2.83L4 21.41c.39.39.9.59 1.41.59.51 0 1.02-.2 1.41-.59l7.78-7.78 2.81-2.81c.8-.78.8-2.07 0-2.86zM5.41 20L4 18.59l7.72-7.72 1.47 1.35L5.41 20z\"/>\n",
              "  </svg>\n",
              "      </button>\n",
              "      \n",
              "  <style>\n",
              "    .colab-df-container {\n",
              "      display:flex;\n",
              "      flex-wrap:wrap;\n",
              "      gap: 12px;\n",
              "    }\n",
              "\n",
              "    .colab-df-convert {\n",
              "      background-color: #E8F0FE;\n",
              "      border: none;\n",
              "      border-radius: 50%;\n",
              "      cursor: pointer;\n",
              "      display: none;\n",
              "      fill: #1967D2;\n",
              "      height: 32px;\n",
              "      padding: 0 0 0 0;\n",
              "      width: 32px;\n",
              "    }\n",
              "\n",
              "    .colab-df-convert:hover {\n",
              "      background-color: #E2EBFA;\n",
              "      box-shadow: 0px 1px 2px rgba(60, 64, 67, 0.3), 0px 1px 3px 1px rgba(60, 64, 67, 0.15);\n",
              "      fill: #174EA6;\n",
              "    }\n",
              "\n",
              "    [theme=dark] .colab-df-convert {\n",
              "      background-color: #3B4455;\n",
              "      fill: #D2E3FC;\n",
              "    }\n",
              "\n",
              "    [theme=dark] .colab-df-convert:hover {\n",
              "      background-color: #434B5C;\n",
              "      box-shadow: 0px 1px 3px 1px rgba(0, 0, 0, 0.15);\n",
              "      filter: drop-shadow(0px 1px 2px rgba(0, 0, 0, 0.3));\n",
              "      fill: #FFFFFF;\n",
              "    }\n",
              "  </style>\n",
              "\n",
              "      <script>\n",
              "        const buttonEl =\n",
              "          document.querySelector('#df-51394b28-1f99-4f38-a824-cc42f5ba036b button.colab-df-convert');\n",
              "        buttonEl.style.display =\n",
              "          google.colab.kernel.accessAllowed ? 'block' : 'none';\n",
              "\n",
              "        async function convertToInteractive(key) {\n",
              "          const element = document.querySelector('#df-51394b28-1f99-4f38-a824-cc42f5ba036b');\n",
              "          const dataTable =\n",
              "            await google.colab.kernel.invokeFunction('convertToInteractive',\n",
              "                                                     [key], {});\n",
              "          if (!dataTable) return;\n",
              "\n",
              "          const docLinkHtml = 'Like what you see? Visit the ' +\n",
              "            '<a target=\"_blank\" href=https://colab.research.google.com/notebooks/data_table.ipynb>data table notebook</a>'\n",
              "            + ' to learn more about interactive tables.';\n",
              "          element.innerHTML = '';\n",
              "          dataTable['output_type'] = 'display_data';\n",
              "          await google.colab.output.renderOutput(dataTable, element);\n",
              "          const docLink = document.createElement('div');\n",
              "          docLink.innerHTML = docLinkHtml;\n",
              "          element.appendChild(docLink);\n",
              "        }\n",
              "      </script>\n",
              "    </div>\n",
              "  </div>\n",
              "  "
            ],
            "text/plain": [
              "         Popularity  danceability  ...  time_signature         Class\n",
              "count  17996.000000  17996.000000  ...    17996.000000  17996.000000\n",
              "mean      44.499944      0.543433  ...        3.924039      6.695821\n",
              "std       17.218613      0.166268  ...        0.361618      3.206073\n",
              "min        1.000000      0.059600  ...        1.000000      0.000000\n",
              "25%       33.000000      0.432000  ...        4.000000      5.000000\n",
              "50%       44.000000      0.545000  ...        4.000000      8.000000\n",
              "75%       56.000000      0.659000  ...        4.000000     10.000000\n",
              "max      100.000000      0.989000  ...        5.000000     10.000000\n",
              "\n",
              "[8 rows x 15 columns]"
            ]
          },
          "metadata": {},
          "execution_count": 13
        }
      ],
      "source": [
        "data.fillna(data.median(axis = 0), axis=0 , inplace=True)\n",
        "data.describe()"
      ]
    },
    {
      "cell_type": "markdown",
      "metadata": {
        "id": "CveGcaBsWZfC"
      },
      "source": [
        "Нормализуем количественные признаки.\n",
        "Каждый количественный признак приведем к нулевому среднему и единичному среднеквадратичному отклонению:"
      ]
    },
    {
      "cell_type": "code",
      "execution_count": 14,
      "metadata": {
        "colab": {
          "base_uri": "https://localhost:8080/",
          "height": 446
        },
        "id": "s5_kvjEKSlqY",
        "outputId": "18ba563d-18fa-45dd-d817-4de998a9466e"
      },
      "outputs": [
        {
          "output_type": "execute_result",
          "data": {
            "text/html": [
              "\n",
              "  <div id=\"df-1e97abaa-e424-472f-9085-8af1a31bc2ba\">\n",
              "    <div class=\"colab-df-container\">\n",
              "      <div>\n",
              "<style scoped>\n",
              "    .dataframe tbody tr th:only-of-type {\n",
              "        vertical-align: middle;\n",
              "    }\n",
              "\n",
              "    .dataframe tbody tr th {\n",
              "        vertical-align: top;\n",
              "    }\n",
              "\n",
              "    .dataframe thead th {\n",
              "        text-align: right;\n",
              "    }\n",
              "</style>\n",
              "<table border=\"1\" class=\"dataframe\">\n",
              "  <thead>\n",
              "    <tr style=\"text-align: right;\">\n",
              "      <th></th>\n",
              "      <th>Popularity</th>\n",
              "      <th>danceability</th>\n",
              "      <th>energy</th>\n",
              "      <th>key</th>\n",
              "      <th>loudness</th>\n",
              "      <th>mode</th>\n",
              "      <th>speechiness</th>\n",
              "      <th>acousticness</th>\n",
              "      <th>instrumentalness</th>\n",
              "      <th>liveness</th>\n",
              "      <th>valence</th>\n",
              "      <th>tempo</th>\n",
              "      <th>duration_in min/ms</th>\n",
              "      <th>time_signature</th>\n",
              "      <th>Class</th>\n",
              "    </tr>\n",
              "  </thead>\n",
              "  <tbody>\n",
              "    <tr>\n",
              "      <th>count</th>\n",
              "      <td>1.799600e+04</td>\n",
              "      <td>1.799600e+04</td>\n",
              "      <td>1.799600e+04</td>\n",
              "      <td>1.799600e+04</td>\n",
              "      <td>1.799600e+04</td>\n",
              "      <td>1.799600e+04</td>\n",
              "      <td>1.799600e+04</td>\n",
              "      <td>1.799600e+04</td>\n",
              "      <td>1.799600e+04</td>\n",
              "      <td>1.799600e+04</td>\n",
              "      <td>1.799600e+04</td>\n",
              "      <td>1.799600e+04</td>\n",
              "      <td>1.799600e+04</td>\n",
              "      <td>1.799600e+04</td>\n",
              "      <td>1.799600e+04</td>\n",
              "    </tr>\n",
              "    <tr>\n",
              "      <th>mean</th>\n",
              "      <td>-4.800006e-17</td>\n",
              "      <td>-7.138026e-15</td>\n",
              "      <td>6.342923e-15</td>\n",
              "      <td>2.075283e-16</td>\n",
              "      <td>3.280642e-15</td>\n",
              "      <td>1.729125e-16</td>\n",
              "      <td>-7.542912e-16</td>\n",
              "      <td>-2.911707e-15</td>\n",
              "      <td>4.642969e-14</td>\n",
              "      <td>2.065770e-15</td>\n",
              "      <td>9.562129e-15</td>\n",
              "      <td>-9.713113e-15</td>\n",
              "      <td>7.538316e-16</td>\n",
              "      <td>2.102462e-15</td>\n",
              "      <td>2.221433e-16</td>\n",
              "    </tr>\n",
              "    <tr>\n",
              "      <th>std</th>\n",
              "      <td>1.000000e+00</td>\n",
              "      <td>1.000000e+00</td>\n",
              "      <td>1.000000e+00</td>\n",
              "      <td>1.000000e+00</td>\n",
              "      <td>1.000000e+00</td>\n",
              "      <td>1.000000e+00</td>\n",
              "      <td>1.000000e+00</td>\n",
              "      <td>1.000000e+00</td>\n",
              "      <td>1.000000e+00</td>\n",
              "      <td>1.000000e+00</td>\n",
              "      <td>1.000000e+00</td>\n",
              "      <td>1.000000e+00</td>\n",
              "      <td>1.000000e+00</td>\n",
              "      <td>1.000000e+00</td>\n",
              "      <td>1.000000e+00</td>\n",
              "    </tr>\n",
              "    <tr>\n",
              "      <th>min</th>\n",
              "      <td>-2.526333e+00</td>\n",
              "      <td>-2.909952e+00</td>\n",
              "      <td>-2.815766e+00</td>\n",
              "      <td>-1.645629e+00</td>\n",
              "      <td>-7.913101e+00</td>\n",
              "      <td>-1.323951e+00</td>\n",
              "      <td>-6.844902e-01</td>\n",
              "      <td>-7.954154e-01</td>\n",
              "      <td>-4.924651e-01</td>\n",
              "      <td>-1.157389e+00</td>\n",
              "      <td>-1.948034e+00</td>\n",
              "      <td>-3.113343e+00</td>\n",
              "      <td>-1.792531e+00</td>\n",
              "      <td>-8.085991e+00</td>\n",
              "      <td>-2.088480e+00</td>\n",
              "    </tr>\n",
              "    <tr>\n",
              "      <th>25%</th>\n",
              "      <td>-6.678787e-01</td>\n",
              "      <td>-6.702005e-01</td>\n",
              "      <td>-6.533311e-01</td>\n",
              "      <td>-6.498409e-01</td>\n",
              "      <td>-4.018967e-01</td>\n",
              "      <td>-1.323951e+00</td>\n",
              "      <td>-5.373189e-01</td>\n",
              "      <td>-7.815727e-01</td>\n",
              "      <td>-4.913988e-01</td>\n",
              "      <td>-6.197404e-01</td>\n",
              "      <td>-7.877278e-01</td>\n",
              "      <td>-7.778612e-01</td>\n",
              "      <td>-3.072393e-01</td>\n",
              "      <td>2.100597e-01</td>\n",
              "      <td>-5.289403e-01</td>\n",
              "    </tr>\n",
              "    <tr>\n",
              "      <th>50%</th>\n",
              "      <td>-2.903512e-02</td>\n",
              "      <td>9.423202e-03</td>\n",
              "      <td>1.581456e-01</td>\n",
              "      <td>1.401791e-02</td>\n",
              "      <td>2.209500e-01</td>\n",
              "      <td>7.552728e-01</td>\n",
              "      <td>-3.865580e-01</td>\n",
              "      <td>-5.333692e-01</td>\n",
              "      <td>-4.782398e-01</td>\n",
              "      <td>-4.218906e-01</td>\n",
              "      <td>-2.168440e-02</td>\n",
              "      <td>-8.649516e-02</td>\n",
              "      <td>7.514606e-02</td>\n",
              "      <td>2.100597e-01</td>\n",
              "      <td>4.067838e-01</td>\n",
              "    </tr>\n",
              "    <tr>\n",
              "      <th>75%</th>\n",
              "      <td>6.678851e-01</td>\n",
              "      <td>6.950613e-01</td>\n",
              "      <td>8.379166e-01</td>\n",
              "      <td>6.778767e-01</td>\n",
              "      <td>6.721557e-01</td>\n",
              "      <td>7.552728e-01</td>\n",
              "      <td>3.940128e-02</td>\n",
              "      <td>6.017351e-01</td>\n",
              "      <td>-2.864943e-01</td>\n",
              "      <td>3.883515e-01</td>\n",
              "      <td>7.735020e-01</td>\n",
              "      <td>6.542089e-01</td>\n",
              "      <td>4.620586e-01</td>\n",
              "      <td>2.100597e-01</td>\n",
              "      <td>1.030600e+00</td>\n",
              "    </tr>\n",
              "    <tr>\n",
              "      <th>max</th>\n",
              "      <td>3.223259e+00</td>\n",
              "      <td>2.679803e+00</td>\n",
              "      <td>1.432716e+00</td>\n",
              "      <td>1.673665e+00</td>\n",
              "      <td>2.288297e+00</td>\n",
              "      <td>7.552728e-01</td>\n",
              "      <td>1.047301e+01</td>\n",
              "      <td>2.410949e+00</td>\n",
              "      <td>3.132099e+00</td>\n",
              "      <td>5.048814e+00</td>\n",
              "      <td>2.080772e+00</td>\n",
              "      <td>3.205540e+00</td>\n",
              "      <td>1.139791e+01</td>\n",
              "      <td>2.975410e+00</td>\n",
              "      <td>1.030600e+00</td>\n",
              "    </tr>\n",
              "  </tbody>\n",
              "</table>\n",
              "</div>\n",
              "      <button class=\"colab-df-convert\" onclick=\"convertToInteractive('df-1e97abaa-e424-472f-9085-8af1a31bc2ba')\"\n",
              "              title=\"Convert this dataframe to an interactive table.\"\n",
              "              style=\"display:none;\">\n",
              "        \n",
              "  <svg xmlns=\"http://www.w3.org/2000/svg\" height=\"24px\"viewBox=\"0 0 24 24\"\n",
              "       width=\"24px\">\n",
              "    <path d=\"M0 0h24v24H0V0z\" fill=\"none\"/>\n",
              "    <path d=\"M18.56 5.44l.94 2.06.94-2.06 2.06-.94-2.06-.94-.94-2.06-.94 2.06-2.06.94zm-11 1L8.5 8.5l.94-2.06 2.06-.94-2.06-.94L8.5 2.5l-.94 2.06-2.06.94zm10 10l.94 2.06.94-2.06 2.06-.94-2.06-.94-.94-2.06-.94 2.06-2.06.94z\"/><path d=\"M17.41 7.96l-1.37-1.37c-.4-.4-.92-.59-1.43-.59-.52 0-1.04.2-1.43.59L10.3 9.45l-7.72 7.72c-.78.78-.78 2.05 0 2.83L4 21.41c.39.39.9.59 1.41.59.51 0 1.02-.2 1.41-.59l7.78-7.78 2.81-2.81c.8-.78.8-2.07 0-2.86zM5.41 20L4 18.59l7.72-7.72 1.47 1.35L5.41 20z\"/>\n",
              "  </svg>\n",
              "      </button>\n",
              "      \n",
              "  <style>\n",
              "    .colab-df-container {\n",
              "      display:flex;\n",
              "      flex-wrap:wrap;\n",
              "      gap: 12px;\n",
              "    }\n",
              "\n",
              "    .colab-df-convert {\n",
              "      background-color: #E8F0FE;\n",
              "      border: none;\n",
              "      border-radius: 50%;\n",
              "      cursor: pointer;\n",
              "      display: none;\n",
              "      fill: #1967D2;\n",
              "      height: 32px;\n",
              "      padding: 0 0 0 0;\n",
              "      width: 32px;\n",
              "    }\n",
              "\n",
              "    .colab-df-convert:hover {\n",
              "      background-color: #E2EBFA;\n",
              "      box-shadow: 0px 1px 2px rgba(60, 64, 67, 0.3), 0px 1px 3px 1px rgba(60, 64, 67, 0.15);\n",
              "      fill: #174EA6;\n",
              "    }\n",
              "\n",
              "    [theme=dark] .colab-df-convert {\n",
              "      background-color: #3B4455;\n",
              "      fill: #D2E3FC;\n",
              "    }\n",
              "\n",
              "    [theme=dark] .colab-df-convert:hover {\n",
              "      background-color: #434B5C;\n",
              "      box-shadow: 0px 1px 3px 1px rgba(0, 0, 0, 0.15);\n",
              "      filter: drop-shadow(0px 1px 2px rgba(0, 0, 0, 0.3));\n",
              "      fill: #FFFFFF;\n",
              "    }\n",
              "  </style>\n",
              "\n",
              "      <script>\n",
              "        const buttonEl =\n",
              "          document.querySelector('#df-1e97abaa-e424-472f-9085-8af1a31bc2ba button.colab-df-convert');\n",
              "        buttonEl.style.display =\n",
              "          google.colab.kernel.accessAllowed ? 'block' : 'none';\n",
              "\n",
              "        async function convertToInteractive(key) {\n",
              "          const element = document.querySelector('#df-1e97abaa-e424-472f-9085-8af1a31bc2ba');\n",
              "          const dataTable =\n",
              "            await google.colab.kernel.invokeFunction('convertToInteractive',\n",
              "                                                     [key], {});\n",
              "          if (!dataTable) return;\n",
              "\n",
              "          const docLinkHtml = 'Like what you see? Visit the ' +\n",
              "            '<a target=\"_blank\" href=https://colab.research.google.com/notebooks/data_table.ipynb>data table notebook</a>'\n",
              "            + ' to learn more about interactive tables.';\n",
              "          element.innerHTML = '';\n",
              "          dataTable['output_type'] = 'display_data';\n",
              "          await google.colab.output.renderOutput(dataTable, element);\n",
              "          const docLink = document.createElement('div');\n",
              "          docLink.innerHTML = docLinkHtml;\n",
              "          element.appendChild(docLink);\n",
              "        }\n",
              "      </script>\n",
              "    </div>\n",
              "  </div>\n",
              "  "
            ],
            "text/plain": [
              "         Popularity  danceability  ...  time_signature         Class\n",
              "count  1.799600e+04  1.799600e+04  ...    1.799600e+04  1.799600e+04\n",
              "mean  -4.800006e-17 -7.138026e-15  ...    2.102462e-15  2.221433e-16\n",
              "std    1.000000e+00  1.000000e+00  ...    1.000000e+00  1.000000e+00\n",
              "min   -2.526333e+00 -2.909952e+00  ...   -8.085991e+00 -2.088480e+00\n",
              "25%   -6.678787e-01 -6.702005e-01  ...    2.100597e-01 -5.289403e-01\n",
              "50%   -2.903512e-02  9.423202e-03  ...    2.100597e-01  4.067838e-01\n",
              "75%    6.678851e-01  6.950613e-01  ...    2.100597e-01  1.030600e+00\n",
              "max    3.223259e+00  2.679803e+00  ...    2.975410e+00  1.030600e+00\n",
              "\n",
              "[8 rows x 15 columns]"
            ]
          },
          "metadata": {},
          "execution_count": 14
        }
      ],
      "source": [
        "data_stand = (data - data.mean(axis = 0))/data.std(axis = 0)\n",
        "data_stand.describe()"
      ]
    },
    {
      "cell_type": "markdown",
      "metadata": {
        "id": "LQzG8bUMeD2D"
      },
      "source": [
        "Делим на тестовую и обучающую выборки"
      ]
    },
    {
      "cell_type": "code",
      "execution_count": 15,
      "metadata": {
        "colab": {
          "base_uri": "https://localhost:8080/"
        },
        "id": "2VSNy9JLWvO3",
        "outputId": "7b360596-12d6-4a88-c7dd-bd650207a3e2"
      },
      "outputs": [
        {
          "output_type": "execute_result",
          "data": {
            "text/plain": [
              "(10797, 7199)"
            ]
          },
          "metadata": {},
          "execution_count": 15
        }
      ],
      "source": [
        "from sklearn.model_selection import train_test_split\n",
        "X = data_stand.drop(['Class'], axis=1)\n",
        "y = data['Class']\n",
        "x_train, x_test, y_train, y_test = train_test_split(X, y, test_size = 0.4, random_state = 42, shuffle=True)\n",
        "N_train, _ = x_train.shape \n",
        "N_test,  _ = x_test.shape \n",
        "\n",
        "N_train, N_test"
      ]
    },
    {
      "cell_type": "markdown",
      "metadata": {
        "id": "bgYGDQGxfLE2"
      },
      "source": [
        "##Нейронные сети:"
      ]
    },
    {
      "cell_type": "code",
      "execution_count": 16,
      "metadata": {
        "id": "B06hC5jCfPTs"
      },
      "outputs": [],
      "source": [
        "from sklearn.neural_network import MLPClassifier\n",
        "\n"
      ]
    },
    {
      "cell_type": "markdown",
      "metadata": {
        "id": "suJDxtiymGPi"
      },
      "source": [
        "Здесь пришлось увеличить количество итераций из-за размера датасета"
      ]
    },
    {
      "cell_type": "code",
      "execution_count": 17,
      "metadata": {
        "colab": {
          "base_uri": "https://localhost:8080/"
        },
        "id": "YseTLYaumMpi",
        "outputId": "731375a4-9399-4f1b-eefa-fbcdff1132ab"
      },
      "outputs": [
        {
          "output_type": "execute_result",
          "data": {
            "text/plain": [
              "((10797, 14), (7199, 14))"
            ]
          },
          "metadata": {},
          "execution_count": 17
        }
      ],
      "source": [
        "x_train.shape, x_test.shape"
      ]
    },
    {
      "cell_type": "code",
      "execution_count": 18,
      "metadata": {
        "colab": {
          "base_uri": "https://localhost:8080/"
        },
        "id": "cjRTkSTB1pB9",
        "outputId": "7d8d90d8-13f9-42d9-8b59-7712d6fe280b"
      },
      "outputs": [
        {
          "output_type": "stream",
          "name": "stdout",
          "text": [
            "CPU times: user 3min 39s, sys: 1.56 s, total: 3min 40s\n",
            "Wall time: 3min 50s\n"
          ]
        }
      ],
      "source": [
        "%%time\n",
        "test_err = []\n",
        "train_err = []\n",
        "for x in range(1, 100, 10):\n",
        "    mlp_model = MLPClassifier(hidden_layer_sizes = (x, ), random_state = 42, max_iter = 10000)\n",
        "    mlp_model.fit(x_train, y_train)\n",
        "\n",
        "    y_train_pred = mlp_model.predict(x_train)\n",
        "    y_test_pred = mlp_model.predict(x_test)\n",
        "    train_err.append(np.mean(y_train != y_train_pred))\n",
        "    test_err.append(np.mean(y_test != y_test_pred))"
      ]
    },
    {
      "cell_type": "code",
      "source": [
        "plt.plot(range(1, 100, 10), train_err, 'r-o', label = 'train')\n",
        "plt.plot(range(1, 100, 10), test_err, 'b-o', label = 'test')\n",
        "plt.xlabel('Count of neurons')\n",
        "plt.ylabel('Error')\n",
        "plt.legend()\n",
        "pass"
      ],
      "metadata": {
        "colab": {
          "base_uri": "https://localhost:8080/",
          "height": 279
        },
        "id": "NdBK-ZktfklS",
        "outputId": "22943320-965a-466a-cc0f-92dc3701a8c6"
      },
      "execution_count": 19,
      "outputs": [
        {
          "output_type": "display_data",
          "data": {
            "image/png": "[encoded data removed]",
            "text/plain": [
              "<Figure size 432x288 with 1 Axes>"
            ]
          },
          "metadata": {
            "needs_background": "light"
          }
        }
      ]
    },
    {
      "cell_type": "code",
      "source": [
        "min_train_err = np.min(train_err)\n",
        "min_test_err = np.min(test_err)\n",
        "print('Минимальная ошибка на обучающей выборке: ', min_train_err)\n",
        "print('Минимальная ошибка на тестовой выборке: ', min_test_err)"
      ],
      "metadata": {
        "colab": {
          "base_uri": "https://localhost:8080/"
        },
        "id": "SwoIHryHQTga",
        "outputId": "b3cd9bca-76e1-430f-e47f-73f4716629ac"
      },
      "execution_count": 20,
      "outputs": [
        {
          "output_type": "stream",
          "name": "stdout",
          "text": [
            "Минимальная ошибка на обучающей выборке:  0.4065018060572381\n",
            "Минимальная ошибка на тестовой выборке:  0.4696485623003195\n"
          ]
        }
      ]
    },
    {
      "cell_type": "markdown",
      "source": [
        "Видим, что минимальная ошибка где-то на 100 нейронах"
      ],
      "metadata": {
        "id": "-dBn0mUgj5tM"
      }
    },
    {
      "cell_type": "code",
      "source": [
        "mlp_model = MLPClassifier(hidden_layer_sizes = (100, ), random_state = 42, max_iter = 10000)\n",
        "mlp_model.fit(x_train, y_train)\n",
        "\n",
        "y_train_pred = mlp_model.predict(x_train)\n",
        "y_test_pred = mlp_model.predict(x_test)\n",
        "print(\"Error on X_train with optimal 1 layer: \", np.mean(y_train != y_train_pred))\n",
        "print(\"Error on X_test with optimal 1 layer: \", np.mean(y_test != y_test_pred))"
      ],
      "metadata": {
        "colab": {
          "base_uri": "https://localhost:8080/"
        },
        "id": "VpW7JejngQsY",
        "outputId": "f65c795b-9ac0-4db2-9d23-fd9889989ad0"
      },
      "execution_count": 26,
      "outputs": [
        {
          "output_type": "stream",
          "name": "stdout",
          "text": [
            "Error on X_train with optimal 1 layer:  0.39723997406687045\n",
            "Error on X_test with optimal 1 layer:  0.4893735241005695\n"
          ]
        }
      ]
    },
    {
      "cell_type": "markdown",
      "source": [
        "Попробуем подобрать количество скрытых слоев для двух слоев"
      ],
      "metadata": {
        "id": "1E46mYJXlUUT"
      }
    },
    {
      "cell_type": "code",
      "source": [
        "test_err = []\n",
        "train_err = []\n",
        "for x in range(1, 500, 50):\n",
        "    mlp_model = MLPClassifier(hidden_layer_sizes = (x, 100), random_state = 42, max_iter = 10000)\n",
        "    mlp_model.fit(x_train, y_train)\n",
        "\n",
        "    y_train_pred = mlp_model.predict(x_train)\n",
        "    y_test_pred = mlp_model.predict(x_test)\n",
        "    train_err.append(np.mean(y_train != y_train_pred))\n",
        "    test_err.append(np.mean(y_test != y_test_pred))"
      ],
      "metadata": {
        "id": "b2iA0KP6lA4K"
      },
      "execution_count": 27,
      "outputs": []
    },
    {
      "cell_type": "code",
      "source": [
        "plt.plot(range(1, 500, 50), train_err, 'r-o', label = 'train')\n",
        "plt.plot(range(1, 500, 50), test_err, 'b-o', label = 'test')\n",
        "plt.xlabel('Count of neurons')\n",
        "plt.ylabel('Error')\n",
        "plt.legend()\n",
        "pass"
      ],
      "metadata": {
        "colab": {
          "base_uri": "https://localhost:8080/",
          "height": 279
        },
        "id": "yxLA_ruiow5J",
        "outputId": "18cf0197-8ad5-4844-ffcd-1ad4546bfe39"
      },
      "execution_count": 28,
      "outputs": [
        {
          "output_type": "display_data",
          "data": {
            "image/png": "[encoded data removed]",
            "text/plain": [
              "<Figure size 432x288 with 1 Axes>"
            ]
          },
          "metadata": {
            "needs_background": "light"
          }
        }
      ]
    },
    {
      "cell_type": "markdown",
      "source": [
        "Меньше всего ошибка где-то на значении на 400 нейронах"
      ],
      "metadata": {
        "id": "zX5NCDM1uQFU"
      }
    },
    {
      "cell_type": "code",
      "source": [
        "mlp_model = MLPClassifier(hidden_layer_sizes = (400, 100), random_state = 42, max_iter = 10000)\n",
        "mlp_model.fit(x_train, y_train)\n",
        "\n",
        "score1 = np.mean(y_train != mlp_model.predict(x_train))\n",
        "score2 = np.mean(y_test  != mlp_model.predict(x_test))\n",
        "print(\"Ошибка на обучающей выборке: \", score1)\n",
        "print(\"Ошибка на тестовой выборке: \", score2)"
      ],
      "metadata": {
        "colab": {
          "base_uri": "https://localhost:8080/"
        },
        "id": "nAWHJ42utYtS",
        "outputId": "14dbd9f3-d0d9-46f5-daba-c533f225653e"
      },
      "execution_count": 29,
      "outputs": [
        {
          "output_type": "stream",
          "name": "stdout",
          "text": [
            "Ошибка на обучающей выборке:  0.1024358618134667\n",
            "Ошибка на тестовой выборке:  0.5716071676621753\n"
          ]
        }
      ]
    },
    {
      "cell_type": "markdown",
      "source": [
        "Ищем параметр альфа:"
      ],
      "metadata": {
        "id": "tAmdTZ-k_VEq"
      }
    },
    {
      "cell_type": "code",
      "source": [
        "from sklearn.metrics import accuracy_score\n",
        "\n",
        "test_err = []\n",
        "train_err = []\n",
        "train_acc = []\n",
        "test_acc = []\n",
        "\n",
        "for alpha in np.arange(0.0001, 0.01, 0.005):\n",
        "    mlp_model = MLPClassifier(alpha = alpha, hidden_layer_sizes = (100, ), max_iter=10000, random_state = 42)\n",
        "    mlp_model.fit(x_train, y_train)\n",
        "\n",
        "    y_train_pred = mlp_model.predict(x_train)\n",
        "    y_test_pred = mlp_model.predict(x_test)\n",
        "    \n",
        "    train_err.append(np.mean(y_train != y_train_pred))\n",
        "    test_err.append(np.mean(y_test != y_test_pred))\n",
        "    train_acc.append(accuracy_score(y_train, y_train_pred))\n",
        "    test_acc.append(accuracy_score(y_test, y_test_pred))"
      ],
      "metadata": {
        "id": "LlTKqUzI-qZB"
      },
      "execution_count": 30,
      "outputs": []
    },
    {
      "cell_type": "code",
      "source": [
        "plt.semilogx(np.arange(0.0001, 0.01, 0.005), train_err, 'b-o', label = 'train')\n",
        "plt.semilogx(np.arange(0.0001, 0.01, 0.005), test_err, 'r-o', label = 'test')\n",
        "plt.xlabel('Alpha')\n",
        "plt.ylabel('Error')\n",
        "plt.legend()\n",
        "pass"
      ],
      "metadata": {
        "colab": {
          "base_uri": "https://localhost:8080/",
          "height": 283
        },
        "id": "NG1okFBXAY4q",
        "outputId": "2077dea8-052d-493b-ba90-6a02a49fb47f"
      },
      "execution_count": 31,
      "outputs": [
        {
          "output_type": "display_data",
          "data": {
            "image/png": "[encoded data removed]",
            "text/plain": [
              "<Figure size 432x288 with 1 Axes>"
            ]
          },
          "metadata": {
            "needs_background": "light"
          }
        }
      ]
    },
    {
      "cell_type": "code",
      "source": [
        "min_train_err = np.min(train_err)\n",
        "min_test_err = np.min(test_err)\n",
        "print('Минимальная ошибка на обучающей выборке: ', min_train_err)\n",
        "print('Минимальная ошибка на тестовой выборке: ', min_test_err)"
      ],
      "metadata": {
        "colab": {
          "base_uri": "https://localhost:8080/"
        },
        "id": "hzcceX2vPH0i",
        "outputId": "94d1d0e5-7596-40f8-ea32-287384c9a67c"
      },
      "execution_count": 32,
      "outputs": [
        {
          "output_type": "stream",
          "name": "stdout",
          "text": [
            "Минимальная ошибка на обучающей выборке:  0.39723997406687045\n",
            "Минимальная ошибка на тестовой выборке:  0.4875677177385748\n"
          ]
        }
      ]
    },
    {
      "cell_type": "markdown",
      "source": [
        "Лучший параметр находится где-то на 0.01"
      ],
      "metadata": {
        "id": "VBDBkcY5E9v4"
      }
    },
    {
      "cell_type": "code",
      "source": [
        "mlp_model = MLPClassifier(hidden_layer_sizes = (100, ), alpha = 0.01, random_state = 42, max_iter = 10000)\n",
        "mlp_model.fit(x_train, y_train)\n",
        "\n",
        "score1 = np.mean(y_train != mlp_model.predict(x_train))\n",
        "score2 = np.mean(y_test  != mlp_model.predict(x_test))\n",
        "print(\"Ошибка на обучающей выборке: \", score1)\n",
        "print(\"Ошибка на тестовой выборке: \", score2)"
      ],
      "metadata": {
        "colab": {
          "base_uri": "https://localhost:8080/"
        },
        "id": "2S8Dh8bqFXf5",
        "outputId": "abd32e97-6de8-46db-9dac-647ca465f032"
      },
      "execution_count": 33,
      "outputs": [
        {
          "output_type": "stream",
          "name": "stdout",
          "text": [
            "Ошибка на обучающей выборке:  0.4037232564601278\n",
            "Ошибка на тестовой выборке:  0.48951243228226143\n"
          ]
        }
      ]
    },
    {
      "cell_type": "markdown",
      "source": [
        "Строим confusion matrix"
      ],
      "metadata": {
        "id": "STzLHX31O4A4"
      }
    },
    {
      "cell_type": "code",
      "source": [
        "from sklearn.metrics import plot_confusion_matrix\n",
        "plot_confusion_matrix(mlp_model, x_test, y_test) \n"
      ],
      "metadata": {
        "colab": {
          "base_uri": "https://localhost:8080/",
          "height": 350
        },
        "id": "Aecnii9bO2vU",
        "outputId": "05e1ccbf-93aa-4639-c44e-b14ad9303aea"
      },
      "execution_count": 34,
      "outputs": [
        {
          "output_type": "stream",
          "name": "stderr",
          "text": [
            "/usr/local/lib/python3.7/dist-packages/sklearn/utils/deprecation.py:87: FutureWarning: Function plot_confusion_matrix is deprecated; Function `plot_confusion_matrix` is deprecated in 1.0 and will be removed in 1.2. Use one of the class methods: ConfusionMatrixDisplay.from_predictions or ConfusionMatrixDisplay.from_estimator.\n",
            "  warnings.warn(msg, category=FutureWarning)\n"
          ]
        },
        {
          "output_type": "execute_result",
          "data": {
            "text/plain": [
              "<sklearn.metrics._plot.confusion_matrix.ConfusionMatrixDisplay at 0x7ffaeaa62190>"
            ]
          },
          "metadata": {},
          "execution_count": 34
        },
        {
          "output_type": "display_data",
          "data": {
            "image/png": "[encoded data removed]",
            "text/plain": [
              "<Figure size 432x288 with 2 Axes>"
            ]
          },
          "metadata": {
            "needs_background": "light"
          }
        }
      ]
    }
  ],
  "metadata": {
    "colab": {
      "collapsed_sections": [],
      "name": "homework_task2_simple_NW.ipynb",
      "provenance": [],
      "authorship_tag": "ABX9TyPreVtcD2pPjtpuM+KMf7Rc",
      "include_colab_link": true
    },
    "kernelspec": {
      "display_name": "Python 3",
      "name": "python3"
    },
    "language_info": {
      "name": "python"
    }
  },
  "nbformat": 4,
  "nbformat_minor": 0
}